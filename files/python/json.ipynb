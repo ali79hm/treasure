{
 "cells": [
  {
   "cell_type": "markdown",
   "id": "9c512aba-e53c-4a16-a1e6-83bd2686900d",
   "metadata": {},
   "source": [
    "work with json in python\n",
    "---\n",
    "\n",
    "# starting with json\n",
    "\n",
    "Python has a built-in package called json, which can be used to work with JSON data\n"
   ]
  },
  {
   "cell_type": "code",
   "execution_count": 2,
   "id": "a2473a35-4772-424a-9ed8-baf96e95f50e",
   "metadata": {},
   "outputs": [],
   "source": [
    "import json"
   ]
  },
  {
   "cell_type": "markdown",
   "id": "51350b22-f37f-4619-a4da-44475a3527a8",
   "metadata": {},
   "source": [
    "# Serializing JSON(convert python object to json)\n",
    "## save to json file\n",
    "Imagine you’re working with a Python object in memory that looks a little something like this:"
   ]
  },
  {
   "cell_type": "code",
   "execution_count": 8,
   "id": "1c013331-72d2-4d27-b82c-148131227790",
   "metadata": {},
   "outputs": [],
   "source": [
    "data = {\n",
    "    \"name\": \"ali\",\n",
    "    \"familyname\":\"hosseini\",\n",
    "    \"age\":20,\n",
    "    \"abbilitis\":[\"eating\",\"sleeping\",\"coding\"]\n",
    "}"
   ]
  },
  {
   "cell_type": "markdown",
   "id": "d6babe68-5fcc-4747-9da5-be8948507004",
   "metadata": {},
   "source": [
    "now we want to save it using ```json.dump```\n",
    "\n",
    "dump() takes two positional arguments: (1) the data object to be serialized, and (2) the file-like object to which the bytes will be written."
   ]
  },
  {
   "cell_type": "code",
   "execution_count": 9,
   "id": "c59fdc57-3932-4a93-8f8f-1acbd6cc73df",
   "metadata": {},
   "outputs": [],
   "source": [
    "with open(\"json/data_file.json\", \"w\") as write_file:\n",
    "    json.dump(data, write_file)"
   ]
  },
  {
   "cell_type": "markdown",
   "id": "4d290068-e64e-41ac-9977-2cc3f2fb99d4",
   "metadata": {},
   "source": [
    "## Convert to JSON string\n",
    "\n",
    "If you have a Python object, you can convert it into a JSON string by using the ```json.dumps()``` method.\n"
   ]
  },
  {
   "cell_type": "code",
   "execution_count": 13,
   "id": "4ae00f59-9d60-4a45-aab5-83ae31ba5333",
   "metadata": {},
   "outputs": [
    {
     "data": {
      "text/plain": [
       "'{\"name\": \"ali\", \"familyname\": \"hosseini\", \"age\": 20, \"abbilitis\": [\"eating\", \"sleeping\", \"coding\"]}'"
      ]
     },
     "execution_count": 13,
     "metadata": {},
     "output_type": "execute_result"
    }
   ],
   "source": [
    "json.dumps(data) #this methed returns string "
   ]
  },
  {
   "cell_type": "markdown",
   "id": "e69450b3-7a26-4ea6-a52a-77cc07eeebb7",
   "metadata": {},
   "source": [
    "you can format json string by using ```indent``` "
   ]
  },
  {
   "cell_type": "code",
   "execution_count": 15,
   "id": "2a125b88-ce24-44ee-b432-660f7e3b81c6",
   "metadata": {},
   "outputs": [
    {
     "name": "stdout",
     "output_type": "stream",
     "text": [
      "{\n",
      "    \"name\": \"ali\",\n",
      "    \"familyname\": \"hosseini\",\n",
      "    \"age\": 20,\n",
      "    \"abbilitis\": [\n",
      "        \"eating\",\n",
      "        \"sleeping\",\n",
      "        \"coding\"\n",
      "    ]\n",
      "}\n"
     ]
    }
   ],
   "source": [
    "str = json.dumps(data,indent=4) #this methed returns string \n",
    "print(str)"
   ]
  },
  {
   "cell_type": "markdown",
   "id": "ac870a06-117f-4341-a2a0-1fe78aced3ca",
   "metadata": {},
   "source": [
    "# Deserializing JSON\n",
    "## load from json file "
   ]
  },
  {
   "cell_type": "code",
   "execution_count": 17,
   "id": "783cd29a-c740-4516-a3ef-4f7489fdf5b2",
   "metadata": {},
   "outputs": [
    {
     "name": "stdout",
     "output_type": "stream",
     "text": [
      "{'name': 'ali', 'familyname': 'hosseini', 'age': 20, 'abbilitis': ['eating', 'sleeping', 'coding']}\n"
     ]
    }
   ],
   "source": [
    "with open(\"json/data_file.json\", \"r\") as read_file:\n",
    "    json_string = json.load(read_file)\n",
    "print (json_string)"
   ]
  },
  {
   "cell_type": "markdown",
   "id": "b4e13c0e-77f8-42cc-81f4-37d2dac9c8a7",
   "metadata": {},
   "source": [
    "## Convert from JSON string\n"
   ]
  },
  {
   "cell_type": "code",
   "execution_count": 21,
   "id": "dc7c1dba-2689-4654-a6c0-59edf08df509",
   "metadata": {},
   "outputs": [
    {
     "name": "stdout",
     "output_type": "stream",
     "text": [
      "{'name': 'ali', 'familyname': 'hosseini', 'age': 20, 'abbilitis': ['eating', 'sleeping', 'coding']}\n",
      "<class 'dict'>\n"
     ]
    }
   ],
   "source": [
    "data = json.loads(json_string)\n",
    "print(data)\n",
    "print(type(data))"
   ]
  },
  {
   "cell_type": "code",
   "execution_count": null,
   "id": "25574305-4c04-487b-a0a2-80d867d0e050",
   "metadata": {},
   "outputs": [],
   "source": []
  }
 ],
 "metadata": {
  "kernelspec": {
   "display_name": "Python 3 (ipykernel)",
   "language": "python",
   "name": "python3"
  },
  "language_info": {
   "codemirror_mode": {
    "name": "ipython",
    "version": 3
   },
   "file_extension": ".py",
   "mimetype": "text/x-python",
   "name": "python",
   "nbconvert_exporter": "python",
   "pygments_lexer": "ipython3",
   "version": "3.8.10"
  }
 },
 "nbformat": 4,
 "nbformat_minor": 5
}
