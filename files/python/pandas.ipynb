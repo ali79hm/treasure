{
 "cells": [
  {
   "cell_type": "markdown",
   "id": "5bdfb032-39c6-42ae-8cca-ece9891595a5",
   "metadata": {},
   "source": [
    "pandas\n",
    "---\n",
    "\n",
    "# start with pandas\n"
   ]
  },
  {
   "cell_type": "code",
   "execution_count": 1,
   "id": "724440de-66a4-4376-a31e-3b7d0ef34c96",
   "metadata": {},
   "outputs": [],
   "source": [
    "import pandas as pd\n"
   ]
  },
  {
   "cell_type": "markdown",
   "id": "f3ccd670-43e1-4dfa-9a21-da5650eca867",
   "metadata": {},
   "source": [
    "# data types in pandas\n",
    "## data frame\n",
    "A DataFrame is a table. \n"
   ]
  },
  {
   "cell_type": "code",
   "execution_count": 3,
   "id": "abb2bd19-edea-4b03-8a4a-5cc97304829d",
   "metadata": {},
   "outputs": [
    {
     "data": {
      "text/html": [
       "<div>\n",
       "<style scoped>\n",
       "    .dataframe tbody tr th:only-of-type {\n",
       "        vertical-align: middle;\n",
       "    }\n",
       "\n",
       "    .dataframe tbody tr th {\n",
       "        vertical-align: top;\n",
       "    }\n",
       "\n",
       "    .dataframe thead th {\n",
       "        text-align: right;\n",
       "    }\n",
       "</style>\n",
       "<table border=\"1\" class=\"dataframe\">\n",
       "  <thead>\n",
       "    <tr style=\"text-align: right;\">\n",
       "      <th></th>\n",
       "      <th>math</th>\n",
       "      <th>physics</th>\n",
       "    </tr>\n",
       "  </thead>\n",
       "  <tbody>\n",
       "    <tr>\n",
       "      <th>0</th>\n",
       "      <td>20</td>\n",
       "      <td>15.0</td>\n",
       "    </tr>\n",
       "    <tr>\n",
       "      <th>1</th>\n",
       "      <td>12</td>\n",
       "      <td>17.5</td>\n",
       "    </tr>\n",
       "  </tbody>\n",
       "</table>\n",
       "</div>"
      ],
      "text/plain": [
       "   math  physics\n",
       "0    20     15.0\n",
       "1    12     17.5"
      ]
     },
     "execution_count": 3,
     "metadata": {},
     "output_type": "execute_result"
    }
   ],
   "source": [
    "pd.DataFrame({'math': [20, 12], 'physics': [15, 17.5]})"
   ]
  },
  {
   "cell_type": "markdown",
   "id": "bdafb682-2e8f-4c7c-9aec-ff822977fc6e",
   "metadata": {},
   "source": [
    "sometimes we  want to assign row labels ourselves instead of numbers"
   ]
  },
  {
   "cell_type": "code",
   "execution_count": 5,
   "id": "6a22c989-0d66-4386-a485-bef6b4395c07",
   "metadata": {},
   "outputs": [
    {
     "data": {
      "text/html": [
       "<div>\n",
       "<style scoped>\n",
       "    .dataframe tbody tr th:only-of-type {\n",
       "        vertical-align: middle;\n",
       "    }\n",
       "\n",
       "    .dataframe tbody tr th {\n",
       "        vertical-align: top;\n",
       "    }\n",
       "\n",
       "    .dataframe thead th {\n",
       "        text-align: right;\n",
       "    }\n",
       "</style>\n",
       "<table border=\"1\" class=\"dataframe\">\n",
       "  <thead>\n",
       "    <tr style=\"text-align: right;\">\n",
       "      <th></th>\n",
       "      <th>math</th>\n",
       "      <th>physics</th>\n",
       "    </tr>\n",
       "  </thead>\n",
       "  <tbody>\n",
       "    <tr>\n",
       "      <th>ali</th>\n",
       "      <td>20</td>\n",
       "      <td>15.0</td>\n",
       "    </tr>\n",
       "    <tr>\n",
       "      <th>mahdi</th>\n",
       "      <td>12</td>\n",
       "      <td>17.5</td>\n",
       "    </tr>\n",
       "  </tbody>\n",
       "</table>\n",
       "</div>"
      ],
      "text/plain": [
       "       math  physics\n",
       "ali      20     15.0\n",
       "mahdi    12     17.5"
      ]
     },
     "execution_count": 5,
     "metadata": {},
     "output_type": "execute_result"
    }
   ],
   "source": [
    "pd.DataFrame({'math': [20, 12], 'physics': [15, 17.5]}\n",
    "            ,index=[\"ali\",\"mahdi\"])"
   ]
  },
  {
   "cell_type": "markdown",
   "id": "5842359d-fb73-4e7d-8476-70d5ec9c7ca7",
   "metadata": {},
   "source": [
    "## series\n",
    "A Series, by contrast, is a sequence of data values. If a DataFrame is a table, a Series is a list. "
   ]
  },
  {
   "cell_type": "code",
   "execution_count": 6,
   "id": "0322f8a7-f491-4858-8f64-52d88ce4f89a",
   "metadata": {},
   "outputs": [
    {
     "data": {
      "text/plain": [
       "0     9.75\n",
       "1    20.00\n",
       "2    15.00\n",
       "dtype: float64"
      ]
     },
     "execution_count": 6,
     "metadata": {},
     "output_type": "execute_result"
    }
   ],
   "source": [
    "pd.Series([9.75,20, 15])"
   ]
  },
  {
   "cell_type": "markdown",
   "id": "2db7188c-2c0b-4ba1-971e-4fe862f3bfe6",
   "metadata": {},
   "source": [
    "we can assign column values to the Series the same way as before, using an index parameter. However, a Series does not have a column name, it only has one overall name"
   ]
  },
  {
   "cell_type": "code",
   "execution_count": 7,
   "id": "c94fa44f-bcb4-4d83-9f93-ab7996a4de3b",
   "metadata": {},
   "outputs": [
    {
     "data": {
      "text/plain": [
       "math          9.75\n",
       "physics      20.00\n",
       "chemistry    15.00\n",
       "Name: scores, dtype: float64"
      ]
     },
     "execution_count": 7,
     "metadata": {},
     "output_type": "execute_result"
    }
   ],
   "source": [
    "pd.Series([9.75,20, 15],index=[\"math\",\"physics\",\"chemistry\"],name=\"scores\")"
   ]
  },
  {
   "cell_type": "code",
   "execution_count": null,
   "id": "b7a61121-c19e-4309-b941-0e2bcff99c4c",
   "metadata": {},
   "outputs": [],
   "source": []
  }
 ],
 "metadata": {
  "kernelspec": {
   "display_name": "Python 3 (ipykernel)",
   "language": "python",
   "name": "python3"
  },
  "language_info": {
   "codemirror_mode": {
    "name": "ipython",
    "version": 3
   },
   "file_extension": ".py",
   "mimetype": "text/x-python",
   "name": "python",
   "nbconvert_exporter": "python",
   "pygments_lexer": "ipython3",
   "version": "3.8.10"
  }
 },
 "nbformat": 4,
 "nbformat_minor": 5
}
